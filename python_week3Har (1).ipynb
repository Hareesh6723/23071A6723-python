{
 "cells": [
  {
   "cell_type": "code",
   "execution_count": 1,
   "metadata": {},
   "outputs": [
    {
     "name": "stdout",
     "output_type": "stream",
     "text": [
      "List: [1, 2, 3, 4, 5]\n",
      "Array from list :  [1 2 3 4 5]\n",
      "tuple: (10, 20, 30, 40)\n",
      "Array from list :  [10 20 30 40]\n"
     ]
    }
   ],
   "source": [
    "#Write a program to convert a list and tuple into arrays. \n",
    "import numpy as n\n",
    "li=[1,2,3,4,5]\n",
    "tup=(10,20,30,40)\n",
    "arr_li=n.array(li)\n",
    "arr_tup=n.array(tup)\n",
    "print(\"List:\",li)\n",
    "print(\"Array from list : \" ,arr_li)\n",
    "print(\"tuple:\",tup)\n",
    "print(\"Array from list : \" ,arr_tup)"
   ]
  },
  {
   "cell_type": "code",
   "execution_count": 2,
   "metadata": {},
   "outputs": [
    {
     "name": "stdout",
     "output_type": "stream",
     "text": [
      "[3 4 5]\n"
     ]
    }
   ],
   "source": [
    "# Write a program to find common values between two arrays. \n",
    "import numpy as n\n",
    "array1=n.array([1,2,3,4,5])\n",
    "array2=n.array([3,4,5,6,7])\n",
    "common=n.intersect1d(array1,array2)\n",
    "print(common)"
   ]
  },
  {
   "cell_type": "code",
   "execution_count": 5,
   "metadata": {},
   "outputs": [
    {
     "name": "stdout",
     "output_type": "stream",
     "text": [
      "20\n",
      "6\n",
      "2\n"
     ]
    }
   ],
   "source": [
    "#2. Write a function called gcd that takes parameters a and b and returns their greatest common divisor. \n",
    "import math\n",
    "a=int(input())\n",
    "b=int(input())\n",
    "gcd=math.gcd(a,b)\n",
    "print(gcd)\n"
   ]
  },
  {
   "cell_type": "code",
   "execution_count": 1,
   "metadata": {},
   "outputs": [
    {
     "name": "stdout",
     "output_type": "stream",
     "text": [
      "enter the stringracecar\n",
      "racecar  is palindrome\n"
     ]
    }
   ],
   "source": [
    "#3. Write a function called palindrome that takes a string argument and returns True if it is a palindrome and False otherwise. \n",
    "#Remember that you can use the built-in function len to check the length of a string. \n",
    "s=input(\"enter the string\")\n",
    "a=s[::-1]\n",
    "if s==a:\n",
    "    print(s,\" is palindrome\")\n",
    "else:\n",
    "    print(s,\" is not palindrome\")\n"
   ]
  },
  {
   "cell_type": "code",
   "execution_count": 11,
   "metadata": {},
   "outputs": [
    {
     "name": "stdout",
     "output_type": "stream",
     "text": [
      "3.4285714285714284\n",
      "3.0\n",
      "3\n"
     ]
    }
   ],
   "source": [
    "#4. Find mean, median, mode for the given set of numbers in a list.\n",
    "import statistics\n",
    "l=[1,2,3,3,4,5,6]\n",
    "c=sum(l)\n",
    "mean=c/len(l)\n",
    "if len(l)%2==0:\n",
    "    median=l[((len(l)/2)+((len(l)/2)-1))/2]\n",
    "else:\n",
    "    median=l[len(l)//2]\n",
    "print(mean)\n",
    "print(float(median))\n",
    "\n",
    "mode=statistics.mode(l)\n",
    "print(mode)\n",
    "\n"
   ]
  },
  {
   "cell_type": "code",
   "execution_count": 12,
   "metadata": {},
   "outputs": [
    {
     "name": "stdout",
     "output_type": "stream",
     "text": [
      "('Hareesh', 23, 19)\n"
     ]
    }
   ],
   "source": [
    "#5. Write a Python program to create a tuple.  \n",
    "tup=(\"Hareesh\",23,19)\n",
    "print(tup)"
   ]
  },
  {
   "cell_type": "code",
   "execution_count": 13,
   "metadata": {},
   "outputs": [
    {
     "name": "stdout",
     "output_type": "stream",
     "text": [
      "('Hari', True, 23, 85.5)\n"
     ]
    }
   ],
   "source": [
    "#6. Write a Python program to create a tuple with different data types.\n",
    "t=(\"Hari\",True,23,85.5)\n",
    "print(t)"
   ]
  },
  {
   "cell_type": "code",
   "execution_count": 14,
   "metadata": {},
   "outputs": [
    {
     "name": "stdout",
     "output_type": "stream",
     "text": [
      "enter elementram\n",
      "Element found\n"
     ]
    }
   ],
   "source": [
    "#7. Write a Python program to check whether an element exists within a tuple.  \n",
    "t=(\"Hari\",23,85.5,2,7,8,\"ram\")\n",
    "n=input(\"enter element\")\n",
    "if n in t:\n",
    "    print(\"Element found\")\n",
    "else:\n",
    "    print(\"Element is not found\")"
   ]
  },
  {
   "cell_type": "code",
   "execution_count": null,
   "metadata": {},
   "outputs": [],
   "source": []
  }
 ],
 "metadata": {
  "kernelspec": {
   "display_name": "Python 3",
   "language": "python",
   "name": "python3"
  },
  "language_info": {
   "codemirror_mode": {
    "name": "ipython",
    "version": 3
   },
   "file_extension": ".py",
   "mimetype": "text/x-python",
   "name": "python",
   "nbconvert_exporter": "python",
   "pygments_lexer": "ipython3",
   "version": "3.7.3"
  }
 },
 "nbformat": 4,
 "nbformat_minor": 2
}
