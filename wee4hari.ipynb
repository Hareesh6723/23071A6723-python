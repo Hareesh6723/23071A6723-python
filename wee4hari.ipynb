{
 "cells": [
  {
   "cell_type": "code",
   "execution_count": 3,
   "metadata": {},
   "outputs": [
    {
     "name": "stdout",
     "output_type": "stream",
     "text": [
      "1 2 3 6 9 8 6\n",
      "not sorted\n"
     ]
    }
   ],
   "source": [
    "#1. Write a function called is_sorted that takes a list as a parameter\n",
    "#and returns True if the list is sorted in ascending order and False otherwise. \n",
    "def is_sorted(a,b):\n",
    "    a.sort()\n",
    "    if a==b :\n",
    "        print(\"Sorted\")\n",
    "    else:\n",
    "        print(\"not sorted\")\n",
    "a=list(map(int,input().split(\" \")))\n",
    "b=a.copy()\n",
    "is_sorted(a,b)"
   ]
  },
  {
   "cell_type": "code",
   "execution_count": 9,
   "metadata": {},
   "outputs": [
    {
     "name": "stdout",
     "output_type": "stream",
     "text": [
      "1 3 3 3 3 5 6 7\n",
      "True\n",
      "[1, 3, 5, 6, 7]\n"
     ]
    }
   ],
   "source": [
    "#2. Write a function called has_duplicates that takes a list and \n",
    "#returns True if there is any element that appears more than once. It should not modify the original list. \n",
    "#i). Write a function called remove_duplicates that takes a list and returns a new list with only the\n",
    "#unique elements from the original. Hint: they don’t have to be in the same order.\n",
    "def remove_duplicates(a):\n",
    "    s=set(a)\n",
    "    if len(a)>len(s):\n",
    "        print(\"True\")\n",
    "    else:\n",
    "        print(\"False\")\n",
    "    l=list(s)\n",
    "    print(l)\n",
    "a=list(map(int,input().split(\" \")))\n",
    "remove_duplicates(a)\n"
   ]
  },
  {
   "cell_type": "code",
   "execution_count": 22,
   "metadata": {},
   "outputs": [
    {
     "name": "stdout",
     "output_type": "stream",
     "text": [
      "1 hari 2 nith\n",
      "{1: 'hari', 2: 'nith'}\n",
      "{'hari': 1, 'nith': 2}\n"
     ]
    }
   ],
   "source": [
    "#iii). Write a python code to read dictionary values from the user. Construct a function to invert its  content.\n",
    "#i.e., keys should be values and values should be keys.\n",
    "def invert(a):\n",
    "    inv={}\n",
    "    for i in a:\n",
    "        inv[a[i]]=i\n",
    "    print(inv)\n",
    "n=input().split()\n",
    "a={}\n",
    "for i in range(0, len(n), 2):\n",
    "    key = int(n[i])\n",
    "    value = str(n[i + 1])\n",
    "    a[ int(n[i])] = str(n[i + 1])\n",
    "print(a)\n",
    "invert(a)\n"
   ]
  },
  {
   "cell_type": "code",
   "execution_count": 23,
   "metadata": {},
   "outputs": [
    {
     "name": "stdout",
     "output_type": "stream",
     "text": [
      "Apple\n",
      "A,p,p,l,e\n"
     ]
    }
   ],
   "source": [
    "#3. i) Add a comma between the characters. If the given word is 'Apple', it should become 'A,p,p,l,e' \n",
    "s=input()\n",
    "r=\",\".join(s)\n",
    "print(r)"
   ]
  },
  {
   "cell_type": "code",
   "execution_count": 2,
   "metadata": {},
   "outputs": [
    {
     "name": "stdout",
     "output_type": "stream",
     "text": [
      "hareesh is is good \n",
      "is\n",
      "hareesh good \n"
     ]
    }
   ],
   "source": [
    "#ii) Remove the given word in all the places in a string? \n",
    "s=list(map(str,input().split(\" \")))\n",
    "r=input()\n",
    "l=[]\n",
    "for i in s:\n",
    "    if i!=r:\n",
    "        l.append(i)     \n",
    "s1=\" \".join(l)\n",
    "print(s1)"
   ]
  },
  {
   "cell_type": "code",
   "execution_count": 15,
   "metadata": {},
   "outputs": [
    {
     "name": "stdout",
     "output_type": "stream",
     "text": [
      "hareesh is good boy\n",
      "Hareesh Is Good Boy\n"
     ]
    }
   ],
   "source": [
    "# Write a function that takes a sentence as an input parameter and replaces the first letter of every  word with the \n",
    "#corresponding upper case letter and the rest of the letters in the word by  \n",
    "def upcase(s):\n",
    "    w = s.split()\n",
    "    c = []\n",
    "    for w in w:\n",
    "        if len(w) > 0:\n",
    "            if 'a' <= w[0] <= 'z':\n",
    "                s1 = chr(ord(w[0]) - 32)\n",
    "                ne = s1 + w[1:]\n",
    "                c.append(ne)\n",
    "            else:\n",
    "                c.append(w)\n",
    "\n",
    "    s2 = \" \".join(c)\n",
    "    return s2\n",
    "\n",
    "s = input()\n",
    "r = upcase(s)\n",
    "print(r)\n"
   ]
  },
  {
   "cell_type": "code",
   "execution_count": 6,
   "metadata": {},
   "outputs": [
    {
     "name": "stdout",
     "output_type": "stream",
     "text": [
      "3\n",
      "000\n",
      "001\n",
      "010\n",
      "011\n",
      "100\n",
      "101\n",
      "110\n",
      "111\n"
     ]
    }
   ],
   "source": [
    "# Writes a recursive function that generates all binary strings of n-bit length \n",
    "def binary(s,p=\"\"):\n",
    "    if(len(p)==s):\n",
    "        print(p)\n",
    "        return\n",
    "    binary(s,p+\"0\")\n",
    "    binary(s,p+\"1\")\n",
    "s=int(input())\n",
    "c=binary(s)\n",
    "\n",
    "    \n"
   ]
  },
  {
   "cell_type": "code",
   "execution_count": 2,
   "metadata": {},
   "outputs": [
    {
     "name": "stdout",
     "output_type": "stream",
     "text": [
      "1 2 3 4 5 6 7 8\n",
      "3 4 5 6\n",
      "{3, 4, 5, 6}\n",
      "{8, 1, 2, 7}\n",
      "True\n",
      "True\n",
      "False\n",
      "{3, 4, 5, 6}\n",
      "5\n",
      "{1, 2, 3, 4, 6, 7, 8, 9}\n"
     ]
    }
   ],
   "source": [
    "#5. Write a Python program to implement all set operations \n",
    "s1=set(map(int,input().split()))\n",
    "s2=set(map(int,input().split()))\n",
    "s3=s1 & s2\n",
    "print(s3)\n",
    "s5= s1.difference(s2)\n",
    "print(s5)\n",
    "print(s2.issubset(s1))\n",
    "print(s1.issuperset(s2))\n",
    "print(s1.isdisjoint(s2))\n",
    "s4=s2.copy()\n",
    "print(s4)\n",
    "s1.remove(int(input()))\n",
    "s6=s1.union(s2)\n",
    "s1.add(9)\n",
    "print(s1)"
   ]
  },
  {
   "cell_type": "code",
   "execution_count": 4,
   "metadata": {},
   "outputs": [
    {
     "name": "stdout",
     "output_type": "stream",
     "text": [
      "racecar\n",
      "racecar is palindrome\n"
     ]
    }
   ],
   "source": [
    "#6. Write a program to check whether a string is palindrome or not  \n",
    "s=input()\n",
    "if s==s[::-1]:\n",
    "    print(s,\"is palindrome\")\n",
    "else:\n",
    "     print(s,\"is not palindrome\")\n",
    "        "
   ]
  },
  {
   "cell_type": "code",
   "execution_count": null,
   "metadata": {},
   "outputs": [],
   "source": []
  }
 ],
 "metadata": {
  "kernelspec": {
   "display_name": "Python 3",
   "language": "python",
   "name": "python3"
  }
 },
 "nbformat": 4,
 "nbformat_minor": 2
}
