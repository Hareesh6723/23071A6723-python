{
 "cells": [
  {
   "cell_type": "code",
   "execution_count": 3,
   "metadata": {},
   "outputs": [
    {
     "name": "stdout",
     "output_type": "stream",
     "text": [
      "\n",
      "5 \n",
      "4 4 \n",
      "3 3 3 \n",
      "2 2 2 2 \n",
      "1 1 1 1 1 \n",
      "\n"
     ]
    }
   ],
   "source": [
    "r=6\n",
    "for i in range(r,0,-1):\n",
    "  for j in range(r):\n",
    "   if i<=j:\n",
    "       print(i, end=\" \")\n",
    "  print(\"\")\n",
    "else:\n",
    "    print( )\n",
    "    "
   ]
  },
  {
   "cell_type": "code",
   "execution_count": 7,
   "metadata": {},
   "outputs": [
    {
     "name": "stdout",
     "output_type": "stream",
     "text": [
      "enter a string  HAREESH\n",
      "Upper case\n"
     ]
    }
   ],
   "source": [
    "# Write a program to check whether the given input is digit or lowercase character or uppercase  character or\n",
    "#a special character (use 'if-else-if' ladder)\n",
    "a=input(\"enter a string  \")\n",
    "if(a.isdigit()):\n",
    "    print(\"Digit\")\n",
    "elif(a.islower()):\n",
    "    print(\"Lower case\")\n",
    "elif(a.isupper()):\n",
    "    print(\"Upper case\")\n",
    "else:\n",
    "    print(\"Special characters\")"
   ]
  },
  {
   "cell_type": "code",
   "execution_count": null,
   "metadata": {},
   "outputs": [],
   "source": [
    "#. Python Program to Print the Fibonacci sequence using while loop "
   ]
  },
  {
   "cell_type": "code",
   "execution_count": 8,
   "metadata": {},
   "outputs": [
    {
     "name": "stdout",
     "output_type": "stream",
     "text": [
      "enter the value of n10\n",
      "0\n",
      "1\n",
      "1\n",
      "2\n",
      "3\n",
      "5\n",
      "8\n",
      "13\n",
      "21\n",
      "34\n",
      "55\n"
     ]
    }
   ],
   "source": [
    "n=int(input(\"enter the value of n\"))\n",
    "a=0\n",
    "b=1\n",
    "count=0\n",
    "while count<=n:\n",
    "    print(a)\n",
    "    tem=a\n",
    "    a=b\n",
    "    b=b+tem\n",
    "    count+=1\n"
   ]
  },
  {
   "cell_type": "code",
   "execution_count": 11,
   "metadata": {},
   "outputs": [
    {
     "name": "stdout",
     "output_type": "stream",
     "text": [
      "enter the value of n :10\n",
      "2\n",
      "3\n",
      "5\n",
      "7\n"
     ]
    }
   ],
   "source": [
    " #Python program to print all prime numbers in a given interval (use break) \n",
    " n=int(input(\"enter the value of n :\"))\n",
    "for i in range(2,n+1,1):\n",
    "    count=0\n",
    "    for j in range(1,i+1,1):\n",
    "        if i%j==0:\n",
    "            count+=1\n",
    "        if count>2:\n",
    "            break\n",
    "    if(count==2):\n",
    "          print(i)\n",
    "        "
   ]
  },
  {
   "cell_type": "code",
   "execution_count": 12,
   "metadata": {},
   "outputs": [
    {
     "name": "stdout",
     "output_type": "stream",
     "text": [
      "enter the value of n1 12\n",
      "enter the value of n2 15\n",
      "60\n"
     ]
    }
   ],
   "source": [
    "# Write a program to compute LCM of two numbers by taking input from the user  \n",
    "n1=int(input(\"enter the value of n1 \"))\n",
    "n2=int(input(\"enter the value of n2 \"))\n",
    "x=n1\n",
    "y=n2\n",
    "while y!=0:\n",
    "    temp = y\n",
    "    y = x % y\n",
    "    x = temp\n",
    "\n",
    "gcd=x\n",
    "print((n1*n2)//gcd)\n"
   ]
  },
  {
   "cell_type": "code",
   "execution_count": null,
   "metadata": {},
   "outputs": [],
   "source": []
  }
 ],
 "metadata": {
  "kernelspec": {
   "display_name": "Python 3",
   "language": "python",
   "name": "python3"
  },
  "language_info": {
   "codemirror_mode": {
    "name": "ipython",
    "version": 3
   },
   "file_extension": ".py",
   "mimetype": "text/x-python",
   "name": "python",
   "nbconvert_exporter": "python",
   "pygments_lexer": "ipython3",
   "version": "3.7.3"
  }
 },
 "nbformat": 4,
 "nbformat_minor": 2
}
