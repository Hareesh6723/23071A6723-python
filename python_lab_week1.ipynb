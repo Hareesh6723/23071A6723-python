{
 "cells": [
  {
   "cell_type": "code",
   "execution_count": 1,
   "metadata": {},
   "outputs": [
    {
     "ename": "IndentationError",
     "evalue": "expected an indented block (<ipython-input-1-0891e8b7ff96>, line 4)",
     "output_type": "error",
     "traceback": [
      "\u001b[1;36m  File \u001b[1;32m\"<ipython-input-1-0891e8b7ff96>\"\u001b[1;36m, line \u001b[1;32m4\u001b[0m\n\u001b[1;33m    print(\"a is positive\")\u001b[0m\n\u001b[1;37m        ^\u001b[0m\n\u001b[1;31mIndentationError\u001b[0m\u001b[1;31m:\u001b[0m expected an indented block\n"
     ]
    }
   ],
   "source": [
    "\"\"\"1.3. Write a program to purposefully raise Indentation Error and correct it\"\"\"\n",
    "a=10\n",
    "if a>0:\n",
    "print(\"a is positive\")"
   ]
  },
  {
   "cell_type": "code",
   "execution_count": 6,
   "metadata": {},
   "outputs": [
    {
     "name": "stdout",
     "output_type": "stream",
     "text": [
      "a is positive\n"
     ]
    }
   ],
   "source": [
    "a=10\n",
    "if a>0:\n",
    "    print(\"a is positive\")"
   ]
  },
  {
   "cell_type": "code",
   "execution_count": 7,
   "metadata": {},
   "outputs": [
    {
     "name": "stdout",
     "output_type": "stream",
     "text": [
      "18\n"
     ]
    }
   ],
   "source": [
    "\"\"\"1.4 Write a program to calculate compound interest when principal, rate and number of periods are given\"\"\"\n",
    "p=2\n",
    "r=2\n",
    "t=2\n",
    "a=p*(1+r)**t\n",
    "print(a)"
   ]
  },
  {
   "cell_type": "code",
   "execution_count": 8,
   "metadata": {},
   "outputs": [
    {
     "name": "stdout",
     "output_type": "stream",
     "text": [
      "1.0\n"
     ]
    }
   ],
   "source": [
    "\"\"\"1.4 Write a program to calculate compound interest when principal, rate and number of periods are given\"\"\"\n",
    "x1,y1,x2,y2=1,1,2,2\n",
    "d=((x2-x2)**2+(y2-y1)**2)**0.5\n",
    "print(d)\n"
   ]
  },
  {
   "cell_type": "code",
   "execution_count": 9,
   "metadata": {},
   "outputs": [
    {
     "name": "stdout",
     "output_type": "stream",
     "text": [
      "pranavi\n",
      "vikasnagar, road no.:4 , Mancherial\n",
      "pranavi@gmail.com\n",
      "9816898971\n"
     ]
    }
   ],
   "source": [
    "\"\"\"1.5 Write a program to calculate compound interest when principal, rate and number of periods are given\"\"\"\n",
    "name=str(input())\n",
    "address=str(input())\n",
    "email=str(input())\n",
    "phoneno=int(input())"
   ]
  },
  {
   "cell_type": "code",
   "execution_count": 10,
   "metadata": {},
   "outputs": [
    {
     "name": "stdout",
     "output_type": "stream",
     "text": [
      "pranavi\n",
      "vikasnagar, road no.:4 , Mancherial\n",
      "pranavi@gmail.com\n",
      "9816898971\n"
     ]
    }
   ],
   "source": [
    "print(name)\n",
    "print(address)\n",
    "print(email)\n",
    "print(phoneno)\n",
    "\n"
   ]
  },
  {
   "cell_type": "code",
   "execution_count": null,
   "metadata": {},
   "outputs": [],
   "source": []
  }
 ],
 "metadata": {
  "kernelspec": {
   "display_name": "Python 3",
   "language": "python",
   "name": "python3"
  },
  "language_info": {
   "codemirror_mode": {
    "name": "ipython",
    "version": 3
   },
   "file_extension": ".py",
   "mimetype": "text/x-python",
   "name": "python",
   "nbconvert_exporter": "python",
   "pygments_lexer": "ipython3",
   "version": "3.7.3"
  }
 },
 "nbformat": 4,
 "nbformat_minor": 2
}
